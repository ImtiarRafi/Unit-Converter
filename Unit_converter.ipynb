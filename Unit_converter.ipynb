{
  "nbformat": 4,
  "nbformat_minor": 0,
  "metadata": {
    "colab": {
      "provenance": []
    },
    "kernelspec": {
      "name": "python3",
      "display_name": "Python 3"
    },
    "language_info": {
      "name": "python"
    }
  },
  "cells": [
    {
      "cell_type": "code",
      "execution_count": 155,
      "metadata": {
        "id": "mc3Ku5-G2pCy"
      },
      "outputs": [],
      "source": [
        "def kilo_to_hecto(k):\n",
        "  h = k*10\n",
        "  return h"
      ]
    },
    {
      "cell_type": "code",
      "source": [
        "def hecto_to_kilo(h):\n",
        "  k = h/10\n",
        "  return k"
      ],
      "metadata": {
        "id": "7QPAAew84hQj"
      },
      "execution_count": 156,
      "outputs": []
    },
    {
      "cell_type": "code",
      "source": [
        "def kilo_to_deca(k):\n",
        "  d = k*100\n",
        "  return d"
      ],
      "metadata": {
        "id": "DGZ-S-Ap52eN"
      },
      "execution_count": 157,
      "outputs": []
    },
    {
      "cell_type": "code",
      "source": [
        "def deca_to_kilo(d):\n",
        "  k = d/100\n",
        "  return k"
      ],
      "metadata": {
        "id": "q4STGeNF8EXS"
      },
      "execution_count": 158,
      "outputs": []
    },
    {
      "cell_type": "code",
      "source": [
        "def kilo_to_metre(k):\n",
        "  m = k*1000\n",
        "  return m\n"
      ],
      "metadata": {
        "id": "uOAY7-W686cM"
      },
      "execution_count": 159,
      "outputs": []
    },
    {
      "cell_type": "code",
      "source": [
        "def metre_to_kilo(m):\n",
        "  k = m/1000\n",
        "  return k"
      ],
      "metadata": {
        "id": "l_-1hltV-ABn"
      },
      "execution_count": 160,
      "outputs": []
    },
    {
      "cell_type": "code",
      "source": [
        "def kilo_to_deci(k):\n",
        "  de = k*10000\n",
        "  return de"
      ],
      "metadata": {
        "id": "0zsDQvqJ-b8D"
      },
      "execution_count": 161,
      "outputs": []
    },
    {
      "cell_type": "code",
      "source": [
        "def deci_to_kilo(de):\n",
        "  k = de/10000\n",
        "  return k"
      ],
      "metadata": {
        "id": "g0dDWP7f-9m3"
      },
      "execution_count": 162,
      "outputs": []
    },
    {
      "cell_type": "code",
      "source": [
        "def kilo_to_centi(k):\n",
        "  c = k*100000\n",
        "  return c"
      ],
      "metadata": {
        "id": "uUy1a3rvAfcR"
      },
      "execution_count": 163,
      "outputs": []
    },
    {
      "cell_type": "code",
      "source": [
        "def centi_to_kilo(c):\n",
        "  k = c/100000\n",
        "  return k"
      ],
      "metadata": {
        "id": "LxCagIlfAlQU"
      },
      "execution_count": 164,
      "outputs": []
    },
    {
      "cell_type": "code",
      "source": [
        "def kilo_to_milli(k):\n",
        "  mi = k*1000000\n",
        "  return mi"
      ],
      "metadata": {
        "id": "nyv478Q2BQS_"
      },
      "execution_count": 165,
      "outputs": []
    },
    {
      "cell_type": "code",
      "source": [
        "def milli_to_kilo(mi):\n",
        "  k = mi/1000000\n",
        "  return k"
      ],
      "metadata": {
        "id": "33fUCrzEBWFH"
      },
      "execution_count": 166,
      "outputs": []
    },
    {
      "cell_type": "code",
      "source": [
        "def hecto_to_deca(h):\n",
        "  d = h*10\n",
        "  return d"
      ],
      "metadata": {
        "id": "P6gOklnJu96R"
      },
      "execution_count": 167,
      "outputs": []
    },
    {
      "cell_type": "code",
      "source": [
        "def deca_to_hecto(d):\n",
        "  h = d/10\n",
        "  return h"
      ],
      "metadata": {
        "id": "w2k0AHg8vaye"
      },
      "execution_count": 168,
      "outputs": []
    },
    {
      "cell_type": "code",
      "source": [
        "def hecto_to_metre(h):\n",
        "  m = h*100\n",
        "  return m"
      ],
      "metadata": {
        "id": "GrIZkRp4wRbo"
      },
      "execution_count": 169,
      "outputs": []
    },
    {
      "cell_type": "code",
      "source": [
        "def metre_to_hecto(m):\n",
        "  h = m/100\n",
        "  return h"
      ],
      "metadata": {
        "id": "0EzNvaVRwrUD"
      },
      "execution_count": 170,
      "outputs": []
    },
    {
      "cell_type": "code",
      "source": [
        "def hecto_to_deci(h):\n",
        "  de = h*1000\n",
        "  return de"
      ],
      "metadata": {
        "id": "ZENz0xEqxn72"
      },
      "execution_count": 171,
      "outputs": []
    },
    {
      "cell_type": "code",
      "source": [
        "def deci_to_hecto(de):\n",
        "  h = de/1000\n",
        "  return h"
      ],
      "metadata": {
        "id": "9kc0XVg1xy0x"
      },
      "execution_count": 172,
      "outputs": []
    },
    {
      "cell_type": "code",
      "source": [
        "def hecto_to_centi(h):\n",
        "  c = h*10000\n",
        "  return c"
      ],
      "metadata": {
        "id": "v9yaMiJRx8Rm"
      },
      "execution_count": 173,
      "outputs": []
    },
    {
      "cell_type": "code",
      "source": [
        "def centi_to_hecto(c):\n",
        "  h = c/10000\n",
        "  return h"
      ],
      "metadata": {
        "id": "YJ9jHcymy2Os"
      },
      "execution_count": 174,
      "outputs": []
    },
    {
      "cell_type": "code",
      "source": [
        "def hecto_to_milli(h):\n",
        "  mi = h*100000\n",
        "  return mi"
      ],
      "metadata": {
        "id": "TddTu5XGzqqG"
      },
      "execution_count": 175,
      "outputs": []
    },
    {
      "cell_type": "code",
      "source": [
        "def milli_to_hecto(mi):\n",
        "  h = mi/10000\n",
        "  return h"
      ],
      "metadata": {
        "id": "7VjKDzwnz1yv"
      },
      "execution_count": 176,
      "outputs": []
    },
    {
      "cell_type": "code",
      "source": [
        "def deca_to_metre(d):\n",
        "  m = d*10\n",
        "  return m"
      ],
      "metadata": {
        "id": "bQ9BCNlu07OF"
      },
      "execution_count": 177,
      "outputs": []
    },
    {
      "cell_type": "code",
      "source": [
        "def metre_to_deca(m):\n",
        "  d = m/10\n",
        "  return d"
      ],
      "metadata": {
        "id": "dHayT78o1Go-"
      },
      "execution_count": 178,
      "outputs": []
    },
    {
      "cell_type": "code",
      "source": [
        "def deca_to_centi(d):\n",
        "  c = d*100\n",
        "  return c"
      ],
      "metadata": {
        "id": "L_RQqc4K153Q"
      },
      "execution_count": 179,
      "outputs": []
    },
    {
      "cell_type": "code",
      "source": [
        "def centi_to_deca(c):\n",
        "  d = c/100\n",
        "  return d"
      ],
      "metadata": {
        "id": "ZR5jw_5B2nPV"
      },
      "execution_count": 180,
      "outputs": []
    },
    {
      "cell_type": "code",
      "source": [
        "def deca_to_deci(d):\n",
        "  de = d*1000\n",
        "  return de"
      ],
      "metadata": {
        "id": "UIujhI7429Yw"
      },
      "execution_count": 181,
      "outputs": []
    },
    {
      "cell_type": "code",
      "source": [
        "def deci_to_deca(de):\n",
        "  d = de/1000\n",
        "  return d"
      ],
      "metadata": {
        "id": "f12XL8QM3TiP"
      },
      "execution_count": 182,
      "outputs": []
    },
    {
      "cell_type": "code",
      "source": [
        "def deca_to_milli(d):\n",
        "  mi = d*10000\n",
        "  return mi"
      ],
      "metadata": {
        "id": "noel9gkL2wAH"
      },
      "execution_count": 183,
      "outputs": []
    },
    {
      "cell_type": "code",
      "source": [
        "def milli_to_deca(mi):\n",
        "  d = mi/10000\n",
        "  return d"
      ],
      "metadata": {
        "id": "stihFalJ3cmR"
      },
      "execution_count": 184,
      "outputs": []
    },
    {
      "cell_type": "code",
      "source": [
        "def metre_to_deci(m):\n",
        "  de = m*10\n",
        "  return de"
      ],
      "metadata": {
        "id": "qT94YDhM5T7u"
      },
      "execution_count": 185,
      "outputs": []
    },
    {
      "cell_type": "code",
      "source": [
        "def deci_to_metre(de):\n",
        "  m = de/10\n",
        "  return m"
      ],
      "metadata": {
        "id": "v3FX0EqT5fEk"
      },
      "execution_count": 186,
      "outputs": []
    },
    {
      "cell_type": "code",
      "source": [
        "def metre_to_centi(m):\n",
        "  c = m*100\n",
        "  return c"
      ],
      "metadata": {
        "id": "bNEzk9XG6t4-"
      },
      "execution_count": 187,
      "outputs": []
    },
    {
      "cell_type": "code",
      "source": [
        "def centi_to_metre(c):\n",
        "  m = c/100\n",
        "  return m"
      ],
      "metadata": {
        "id": "Vc6TrVrM6zjf"
      },
      "execution_count": 188,
      "outputs": []
    },
    {
      "cell_type": "code",
      "source": [
        "def metre_to_milli(m):\n",
        "  mi = m*1000\n",
        "  return mi"
      ],
      "metadata": {
        "id": "fFh4qTcL7pCd"
      },
      "execution_count": 189,
      "outputs": []
    },
    {
      "cell_type": "code",
      "source": [
        "def milli_to_metre(mi):\n",
        "  m = mi/1000\n",
        "  return m"
      ],
      "metadata": {
        "id": "Jgafsk977wyD"
      },
      "execution_count": 190,
      "outputs": []
    },
    {
      "cell_type": "code",
      "source": [
        "def deci_to_centi(de):\n",
        "  c = de*10\n",
        "  return c"
      ],
      "metadata": {
        "id": "tZN0a4XH8hbz"
      },
      "execution_count": 191,
      "outputs": []
    },
    {
      "cell_type": "code",
      "source": [
        "def centi_to_deci(c):\n",
        "  de = c/10\n",
        "  return de"
      ],
      "metadata": {
        "id": "W-JLhA1J8pJb"
      },
      "execution_count": 192,
      "outputs": []
    },
    {
      "cell_type": "code",
      "source": [
        "def deci_to_milli(de):\n",
        "  mi = de*100\n",
        "  return mi"
      ],
      "metadata": {
        "id": "F-FlxOGI9w5J"
      },
      "execution_count": 193,
      "outputs": []
    },
    {
      "cell_type": "code",
      "source": [
        "def milli_to_deci(mi):\n",
        "  de = mi/100\n",
        "  return de"
      ],
      "metadata": {
        "id": "atFrDQMa9597"
      },
      "execution_count": 194,
      "outputs": []
    },
    {
      "cell_type": "code",
      "source": [
        "def centi_to_milli(c):\n",
        "  mi = c*10\n",
        "  return mi"
      ],
      "metadata": {
        "id": "iok8WnHd-7HB"
      },
      "execution_count": 195,
      "outputs": []
    },
    {
      "cell_type": "code",
      "source": [
        "def milli_to_centi(mi):\n",
        "  c = mi/10\n",
        "  return c"
      ],
      "metadata": {
        "id": "uMqQ8t0W_EwI"
      },
      "execution_count": 196,
      "outputs": []
    },
    {
      "cell_type": "code",
      "source": [
        "def kilo_to_miles(ki):\n",
        "  mile = ki/0.621\n",
        "  return mile"
      ],
      "metadata": {
        "id": "F67GNKBzMBQW"
      },
      "execution_count": 197,
      "outputs": []
    },
    {
      "cell_type": "code",
      "source": [
        "def miles_to_kilo(mile):\n",
        "  ki = mile*1.609\n",
        "  return ki"
      ],
      "metadata": {
        "id": "v4ytd11jMUfs"
      },
      "execution_count": 198,
      "outputs": []
    },
    {
      "cell_type": "code",
      "source": [
        "def celcius_to_farenheit(cel):\n",
        "  far = (cel*(9/5))+32\n",
        "  return far"
      ],
      "metadata": {
        "id": "mRe59yNUL2_w"
      },
      "execution_count": 199,
      "outputs": []
    },
    {
      "cell_type": "code",
      "source": [
        "def farenheit_to_celcius(far):\n",
        "  cel = (far-32) * 5/9\n",
        "  return cel"
      ],
      "metadata": {
        "id": "akm19gZHM-7a"
      },
      "execution_count": 200,
      "outputs": []
    },
    {
      "cell_type": "code",
      "source": [
        "def kilogram_to_pound(kilo):\n",
        "  po = kilo*2.20462\n",
        "  return po"
      ],
      "metadata": {
        "id": "hKSXyJgRNX3R"
      },
      "execution_count": 201,
      "outputs": []
    },
    {
      "cell_type": "code",
      "source": [
        "def pound_to_kilogram(po):\n",
        "  kilo = po*0.453592\n",
        "  return po"
      ],
      "metadata": {
        "id": "nYTFglYRNo9G"
      },
      "execution_count": 202,
      "outputs": []
    },
    {
      "cell_type": "code",
      "source": [
        "def main():\n",
        "  print('     Welcome to the Unit Converter     ')\n",
        "\n",
        "  your_unit = input('What is your unit?\\nPress 1 for Kilometre\\nPress 2 for Hectometre\\nPress 3 for Decametre\\nPress 4 for Metre \\nPress 5 for Decimetre\\nPress 6 for Centimetre\\nPress 7 for Millimetre\\nPress 8 for Miles\\nPress 9 for Celcius\\nPress 10 for Farenheit\\nPress 11 for kilogram\\nPress 12 for Pound\\n')\n",
        "\n",
        "  quantity = float(input('Enter your quantity : '))\n",
        "\n",
        "  converted_unit = input('Which unit do you want to convert to?\\nPress 1 for Kilometre\\nPress 2 for Hectometre\\nPress 3 for Decametre\\nPress 4 for Metre \\nPress 5 for Decimetre\\nPress 6 for Centimetre\\nPress 7 for Millimetre\\nPress 8 for Miles\\nPress 9 for Celcius\\nPress 10 for Farenheit\\nPress 11 for kilogram\\nPress 12 for Pound\\n')\n",
        "\n",
        "\n",
        "  if your_unit == '1' and converted_unit == '2':\n",
        "    converted_quantity = kilo_to_hecto(quantity)\n",
        "    print('Quantity in Hecto  : ',converted_quantity)\n",
        "\n",
        "  elif your_unit == '2' and converted_unit == '1':\n",
        "    converted_quantity = hecto_to_kilo(quantity)\n",
        "    print('Quantity in kilo : ',converted_quantity)\n",
        "\n",
        "  elif your_unit == '1' and converted_unit == '3':\n",
        "    converted_quantity = kilo_to_deca(quantity)\n",
        "    print('Quantity in deca : ',converted_quantity)\n",
        "\n",
        "  elif your_unit == '3' and converted_unit == '1':\n",
        "    converted_quantity = deca_to_kilo(quantity)\n",
        "    print('Quantity in kilo : ',converted_quantity)\n",
        "\n",
        "  elif your_unit == '1' and converted_unit == '4':\n",
        "    converted_quantity = kilo_to_metre(quantity)\n",
        "    print('Quantity in Metre : ',converted_quantity)\n",
        "\n",
        "  elif your_unit == '4' and converted_unit == '1':\n",
        "    converted_quantity = metre_to_kilo(quantity)\n",
        "    print('Quantity in kilo : ',converted_quantity)\n",
        "\n",
        "  elif your_unit == '1' and converted_unit == '5':\n",
        "    converted_quantity = kilo_to_deci(quantity)\n",
        "    print('Quantity in deci : ',converted_quantity)\n",
        "\n",
        "  elif your_unit == '5' and converted_unit == '1':\n",
        "    converted_quantity = deci_to_kilo(quantity)\n",
        "    print('Quantity in kilo : ',converted_quantity)\n",
        "\n",
        "  elif your_unit == '1' and converted_unit == '6':\n",
        "    converted_quantity = kilo_to_centi(quantity)\n",
        "    print('Quantity in Centimetre : ',converted_quantity)\n",
        "\n",
        "  elif your_unit == '6' and converted_unit == '1':\n",
        "    converted_quantity = centi_to_kilo(quantity)\n",
        "    print('Quantity in kilometre : ',converted_quantity)\n",
        "\n",
        "  elif your_unit == '1' and converted_unit == '7':\n",
        "    converted_quantity = kilo_to_milli(quantity)\n",
        "    print('Quantity in millimetre : ',converted_quantity)\n",
        "\n",
        "  elif your_unit == '7' and converted_unit == '1':\n",
        "    converted_quantity = milli_to_kilo(quantity)\n",
        "    print('Quantity in kilometre : ',converted_quantity)\n",
        "\n",
        "  elif your_unit == '2' and converted_unit == '3':\n",
        "    converted_quantity = hecto_to_deca(quantity)\n",
        "    print('Quantity in decametre : ',converted_quantity)\n",
        "\n",
        "  elif your_unit == '2' and converted_unit == '4':\n",
        "    converted_quantity = hecto_to_metre(quantity)\n",
        "    print('Quantity in metre : ',converted_quantity)\n",
        "\n",
        "  elif your_unit == '2' and converted_unit == '5':\n",
        "    converted_quantity = hecto_to_deci(quantity)\n",
        "    print('Quantity in decimetre : ',converted_quantity)\n",
        "\n",
        "  elif your_unit == '2' and converted_unit == '6':\n",
        "    converted_quantity = hecto_to_centi(quantity)\n",
        "    print('Quantity in centimetre : ',converted_quantity)\n",
        "\n",
        "  elif your_unit == '2' and converted_unit == '7':\n",
        "    converted_quantity = hecto_to_milli(quantity)\n",
        "    print('Quantity in milli : ',converted_quantity)\n",
        "\n",
        "  elif your_unit == '3' and converted_unit == '2':\n",
        "    converted_quantity = deca_to_hecto(quantity)\n",
        "    print('Quantity in hecto : ',converted_quantity)\n",
        "\n",
        "  elif your_unit == '3' and converted_unit == '4':\n",
        "    converted_quantity = deca_to_metre(quantity)\n",
        "    print('Quantity in metre : ',converted_quantity)\n",
        "\n",
        "  elif your_unit == '3' and converted_unit == '5':\n",
        "    converted_quantity = deca_to_deci(quantity)\n",
        "    print('Quantity in deci : ',converted_quantity)\n",
        "\n",
        "  elif your_unit == '3' and converted_unit == '6':\n",
        "    converted_quantity = deca_to_centi(quantity)\n",
        "    print('Quantity in centimetre : ',converted_quantity)\n",
        "\n",
        "  elif your_unit == '3' and converted_unit == '7':\n",
        "    converted_quantity = deca_to_milli(quantity)\n",
        "    print('Quantity in millimetre : ',converted_quantity)\n",
        "\n",
        "  elif your_unit == '4' and converted_unit == '2':\n",
        "    converted_quantity = metre_to_hecto(quantity)\n",
        "    print('Quantity in hectometre : ',converted_quantity)\n",
        "\n",
        "  elif your_unit == '4' and converted_unit == '3':\n",
        "    converted_quantity = metre_to_deca(quantity)\n",
        "    print('Quantity in decametre : ',converted_quantity)\n",
        "\n",
        "  elif your_unit == '4' and converted_unit == '5':\n",
        "    converted_quantity = metre_to_deci(quantity)\n",
        "    print('Quantity in decimetre : ',converted_quantity)\n",
        "\n",
        "  elif your_unit == '4' and converted_unit == '6':\n",
        "    converted_quantity = metre_to_centi(quantity)\n",
        "    print('Quantity in centimetre : ',converted_quantity)\n",
        "\n",
        "  elif your_unit == '4' and converted_unit == '7':\n",
        "    converted_quantity = metre_to_milli(quantity)\n",
        "    print('Quantity in millimetre : ',converted_quantity)\n",
        "\n",
        "  elif your_unit == '5' and converted_unit == '2':\n",
        "    converted_quantity = deci_to_hecto(quantity)\n",
        "    print('Quantity in hectometre : ',converted_quantity)\n",
        "\n",
        "  elif your_unit == '5' and converted_unit == '3':\n",
        "    converted_quantity = deci_to_deca(quantity)\n",
        "    print('Quantity in decametre : ',converted_quantity)\n",
        "\n",
        "  elif your_unit == '5' and converted_unit == '4':\n",
        "    converted_quantity = deci_to_metre(quantity)\n",
        "    print('Quantity in metre : ',converted_quantity)\n",
        "\n",
        "  elif your_unit == '5' and converted_unit == '6':\n",
        "    converted_quantity = deci_to_centi(quantity)\n",
        "    print('Quantity in centimetre : ',converted_quantity)\n",
        "\n",
        "  elif your_unit == '5' and converted_unit == '7':\n",
        "    converted_quantity = deci_to_milli(quantity)\n",
        "    print('Quantity in millimetre : ',converted_quantity)\n",
        "\n",
        "  elif your_unit == '6' and converted_unit == '2':\n",
        "    converted_quantity = centi_to_hecto(quantity)\n",
        "    print('Quantity in hectometre : ',converted_quantity)\n",
        "\n",
        "  elif your_unit == '6' and converted_unit == '3':\n",
        "    converted_quantity = centi_to_deca(quantity)\n",
        "    print('Quantity in decametre : ',converted_quantity)\n",
        "\n",
        "  elif your_unit == '6' and converted_unit == '4':\n",
        "    converted_quantity = centi_to_metre(quantity)\n",
        "    print('Quantity in metre : ',converted_quantity)\n",
        "\n",
        "  elif your_unit == '6' and converted_unit == '5':\n",
        "    converted_quantity = centi_to_deci(quantity)\n",
        "    print('Quantity in decimetre : ',converted_quantity)\n",
        "\n",
        "  elif your_unit == '6' and converted_unit == '7':\n",
        "    converted_quantity = centi_to_milli(quantity)\n",
        "    print('Quantity in millimetre : ',converted_quantity)\n",
        "\n",
        "  elif your_unit == '7' and converted_unit == '2':\n",
        "    converted_quantity = milli_to_hecto(quantity)\n",
        "    print('Quantity in hectometre : ',converted_quantity)\n",
        "\n",
        "  elif your_unit == '7' and converted_unit == '3':\n",
        "    converted_quantity = milli_to_deca(quantity)\n",
        "    print('Quantity in decametre : ',converted_quantity)\n",
        "\n",
        "  elif your_unit == '7' and converted_unit == '4':\n",
        "    converted_quantity = milli_to_metre(quantity)\n",
        "    print('Quantity in metre : ',converted_quantity)\n",
        "\n",
        "  elif your_unit == '7' and converted_unit == '5':\n",
        "    converted_quantity = milli_to_deci(quantity)\n",
        "    print('Quantity in decimetre : ',converted_quantity)\n",
        "\n",
        "  elif your_unit == '7' and converted_unit == '6':\n",
        "    converted_quantity = milli_to_centi(quantity)\n",
        "    print('Quantity in centimetre : ',converted_quantity)\n",
        "\n",
        "  elif your_unit == '1' and converted_unit == '8':\n",
        "    converted_quantity = kilo_to_miles(quantity)\n",
        "    print('Quantity in miles : ',converted_quantity)\n",
        "\n",
        "  elif your_unit == '8' and converted_unit == '1':\n",
        "    converted_quantity = miles_to_kilo(quantity)\n",
        "    print('Quantity in kilometre : ',converted_quantity)\n",
        "\n",
        "  elif your_unit == '9' and converted_unit == '10':\n",
        "    converted_quantity = celcius_to_farenheit(quantity)\n",
        "    print('Quantity in Farenheit : ',converted_quantity)\n",
        "\n",
        "  elif your_unit == '10' and converted_unit == '9':\n",
        "    converted_quantity = farenheit_to_celcius(quantity)\n",
        "    print('Quantity in celcius : ',converted_quantity)\n",
        "\n",
        "  elif your_unit == '11' and converted_unit == '12':\n",
        "    converted_quantity = kilogram_to_pound(quantity)\n",
        "    print('Quantity in pound : ',converted_quantity)\n",
        "\n",
        "  elif your_unit == '12' and converted_unit == '11':\n",
        "    converted_quantity = pound_to_kilogram(quantity)\n",
        "    print('Quantity in kilogram : ',converted_quantity)\n",
        "\n",
        "  elif your_unit==converted_unit:\n",
        "    print('Please press the corresponding button to the unit you want to convert to\\nDo not press the same buttons.')\n",
        "\n",
        "  elif your_unit>'12' or converted_unit>'12':\n",
        "    print('Please press 1-12')\n",
        "\n",
        "  elif your_unit == '0' or converted_unit == '0':\n",
        "    print('Please press 1-12')\n",
        "\n",
        "  else:\n",
        "    print('Conversion not possible')\n"
      ],
      "metadata": {
        "id": "yEtFzw8-BlKe"
      },
      "execution_count": 203,
      "outputs": []
    },
    {
      "cell_type": "code",
      "source": [
        "main()"
      ],
      "metadata": {
        "id": "Lp_0VSIsDzMR",
        "colab": {
          "base_uri": "https://localhost:8080/"
        },
        "outputId": "a75e974c-cd14-45d2-e867-1c86a63d83f5"
      },
      "execution_count": 205,
      "outputs": [
        {
          "output_type": "stream",
          "name": "stdout",
          "text": [
            "     Welcome to the Unit Converter     \n",
            "What is your unit?\n",
            "Press 1 for Kilometre\n",
            "Press 2 for Hectometre\n",
            "Press 3 for Decametre\n",
            "Press 4 for Metre \n",
            "Press 5 for Decimetre\n",
            "Press 6 for Centimetre\n",
            "Press 7 for Millimetre\n",
            "Press 8 for Miles\n",
            "Press 9 for Celcius\n",
            "Press 10 for Farenheit\n",
            "Press 11 for kilogram\n",
            "Press 12 for Pound\n",
            "11\n",
            "Enter your quantity : 90\n",
            "Which unit do you want to convert to?\n",
            "Press 1 for Kilometre\n",
            "Press 2 for Hectometre\n",
            "Press 3 for Decametre\n",
            "Press 4 for Metre \n",
            "Press 5 for Decimetre\n",
            "Press 6 for Centimetre\n",
            "Press 7 for Millimetre\n",
            "Press 8 for Miles\n",
            "Press 9 for Celcius\n",
            "Press 10 for Farenheit\n",
            "Press 11 for kilogram\n",
            "Press 12 for Pound\n",
            "12\n",
            "Quantity in pound :  198.4158\n"
          ]
        }
      ]
    }
  ]
}